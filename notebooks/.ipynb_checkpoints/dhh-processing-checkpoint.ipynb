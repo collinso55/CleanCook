{
 "cells": [
  {
   "cell_type": "markdown",
   "id": "001decee-daee-4396-8f67-90adacdc55f8",
   "metadata": {},
   "source": [
    "## Load and inspect dataset\n"
   ]
  },
  {
   "cell_type": "code",
   "execution_count": null,
   "id": "120ce39d-3041-4351-a468-6f46a24defc1",
   "metadata": {},
   "outputs": [],
   "source": []
  },
  {
   "cell_type": "code",
   "execution_count": 39,
   "id": "5631bca9-e807-4ec9-9ccf-977cf5576ff4",
   "metadata": {},
   "outputs": [
    {
     "name": "stdout",
     "output_type": "stream",
     "text": [
      "['hhid', 'hv000', 'hv001', 'hv002', 'hv003', 'hv004', 'hv005', 'hv006', 'hv007', 'hv008', 'hv009', 'hv010', 'hv011', 'hv012', 'hv013', 'hv014', 'hv015', 'hv016', 'hv017', 'hv018', 'hv019', 'hv020', 'hv021', 'hv022', 'hv023', 'hv024', 'hv025', 'hv026', 'hv027', 'hv028', 'hv201', 'hv202', 'hv203', 'hv204', 'hv205', 'hv206', 'hv207', 'hv208', 'hv209', 'hv210', 'hv211', 'hv212', 'hv213', 'hv214', 'hv215', 'hv216', 'hv217', 'hv218', 'hv219', 'hv220']\n"
     ]
    }
   ],
   "source": [
    "import pandas as pd\n",
    "\n",
    "# Replace with your full file path\n",
    "df = pd.read_stata(\"../data/raw/CMHR22FL.DTA\")\n",
    "\n",
    "# See all column names\n",
    "print(df.columns.tolist()[:50])   # show first 50 column names\n"
   ]
  },
  {
   "cell_type": "markdown",
   "id": "9c74e32a-6ada-44ac-8664-b26ac6e5ffc0",
   "metadata": {},
   "source": [
    "## selecting relevant variables"
   ]
  },
  {
   "cell_type": "code",
   "execution_count": 49,
   "id": "a62bf1dc-85ba-403c-9761-a5af061bda25",
   "metadata": {},
   "outputs": [
    {
     "name": "stdout",
     "output_type": "stream",
     "text": [
      "   hv001                hv024  hv025  hv009 hv219 hv220 hv206 shniv_01  \\\n",
      "0      1  adam /nord/ext-nord  rural      5  male  36.0    no      NaN   \n",
      "1      1  adam /nord/ext-nord  rural      6  male  35.0    no      NaN   \n",
      "2      1  adam /nord/ext-nord  rural      4  male  50.0    no      NaN   \n",
      "3      1  adam /nord/ext-nord  rural      8  male  48.0    no      NaN   \n",
      "4      1  adam /nord/ext-nord  rural      5  male  45.0    no      NaN   \n",
      "\n",
      "  shecr_01  sh30h  sh27  sh30m  \n",
      "0       no   10.0   3.0   45.0  \n",
      "1       no    9.0   6.0   30.0  \n",
      "2       no    9.0   4.0   37.0  \n",
      "3       no   10.0   8.0   50.0  \n",
      "4       no    9.0   5.0   50.0  \n"
     ]
    }
   ],
   "source": [
    "# Select relevant columns using Cameroon 2022 DHS names\n",
    "selected_cols = [\n",
    "    'hv001',   # cluster number\n",
    "    'hv024',   # region\n",
    "    'hv025',   # urban/rural\n",
    "    'hv009',   # household size\n",
    "    'hv219',   # sex of household head\n",
    "    'hv220',   # age of household head\n",
    "    'hv206',   # electricity access\n",
    "    'shniv_01',  # education level\n",
    "    'shecr_01',  # years of education\n",
    "    'sh30h',     # cooking fuel type\n",
    "    'sh27' ,      # wealth category\n",
    "    'sh30m'\n",
    "]\n",
    "\n",
    "# Filter the dataset\n",
    "data = df[selected_cols].copy()\n",
    "print(data.head())\n"
   ]
  },
  {
   "cell_type": "markdown",
   "id": "8d0271b6-1550-4f7d-bd2f-6cbfb46e5138",
   "metadata": {},
   "source": [
    "## inapecting the sh30h variable"
   ]
  },
  {
   "cell_type": "code",
   "execution_count": 50,
   "id": "0f6c2db9-7fce-4a08-97bc-c37b1d3fb5a6",
   "metadata": {},
   "outputs": [
    {
     "data": {
      "text/plain": [
       "array([10.,  9., 17., 12., 13., 14., 15., 19., 16., 18., 11., nan,  7.,\n",
       "        8., 20.,  6.])"
      ]
     },
     "execution_count": 50,
     "metadata": {},
     "output_type": "execute_result"
    }
   ],
   "source": [
    "data['sh30h'].value_counts(dropna=False)\n",
    "data['sh30h'].unique()\n",
    "\n"
   ]
  },
  {
   "cell_type": "code",
   "execution_count": 51,
   "id": "005a6dde-2a57-4e90-9114-3d3a0d7c437c",
   "metadata": {},
   "outputs": [],
   "source": [
    "data['sh30h'] = pd.to_numeric(data['sh30h'], errors='coerce')\n"
   ]
  },
  {
   "cell_type": "markdown",
   "id": "a5039085-1747-487c-86c0-90a13b459943",
   "metadata": {},
   "source": [
    "## mapping numeric codes to readable texts"
   ]
  },
  {
   "cell_type": "markdown",
   "id": "d511ed1b-77fe-446e-8d41-f0db2e08f71f",
   "metadata": {},
   "source": [
    "## simpliying into firewood vs gas category"
   ]
  },
  {
   "cell_type": "code",
   "execution_count": null,
   "id": "6414e577-3d47-4a80-b1f2-4ef17f096613",
   "metadata": {},
   "outputs": [],
   "source": []
  },
  {
   "cell_type": "code",
   "execution_count": 52,
   "id": "e3d82404-4260-413b-bcc0-2ce542865975",
   "metadata": {},
   "outputs": [
    {
     "name": "stdout",
     "output_type": "stream",
     "text": [
      "sh30h unique: [10.  9. 17. 12. 13. 14. 15. 19. 16. 18.]\n",
      "sh30m unique: [45. 30. 37. 50. 10. 13. 35. 40. 19. 32.]\n"
     ]
    }
   ],
   "source": [
    "print(\"sh30h unique:\", df['sh30h'].unique()[:10])\n",
    "print(\"sh30m unique:\", df['sh30m'].unique()[:10])\n"
   ]
  },
  {
   "cell_type": "code",
   "execution_count": 53,
   "id": "a6340849-89ab-4c5c-977e-149a67acc9c9",
   "metadata": {},
   "outputs": [
    {
     "data": {
      "text/plain": [
       "sh30h  sh30m\n",
       "10.0   20.0     34\n",
       "       30.0     34\n",
       "       0.0      31\n",
       "       15.0     31\n",
       "11.0   40.0     31\n",
       "9.0    15.0     30\n",
       "       30.0     29\n",
       "10.0   45.0     28\n",
       "12.0   10.0     28\n",
       "11.0   10.0     28\n",
       "Name: count, dtype: int64"
      ]
     },
     "execution_count": 53,
     "metadata": {},
     "output_type": "execute_result"
    }
   ],
   "source": [
    "df[['sh30h', 'sh30m']].value_counts().head(10)\n"
   ]
  },
  {
   "cell_type": "code",
   "execution_count": 54,
   "id": "bc68a56a-e9af-49f8-88d0-71d3226c4954",
   "metadata": {},
   "outputs": [
    {
     "name": "stdout",
     "output_type": "stream",
     "text": [
      "    sh30h  sh30m\n",
      "0    10.0   45.0\n",
      "1     9.0   30.0\n",
      "2     9.0   37.0\n",
      "3    10.0   50.0\n",
      "4     9.0   50.0\n",
      "5    17.0   10.0\n",
      "6    17.0   13.0\n",
      "7    12.0   45.0\n",
      "8    13.0   35.0\n",
      "9    12.0   50.0\n",
      "10   12.0   40.0\n",
      "11   13.0   19.0\n",
      "12   12.0   32.0\n",
      "13   12.0   35.0\n",
      "14   14.0   35.0\n",
      "15   15.0   12.0\n",
      "16   15.0   46.0\n",
      "17   14.0   42.0\n",
      "18   15.0    5.0\n",
      "19   14.0   35.0\n"
     ]
    }
   ],
   "source": [
    "print(df[['sh30h', 'sh30m']].dropna().head(20))\n"
   ]
  },
  {
   "cell_type": "code",
   "execution_count": 56,
   "id": "d3c312fd-9865-42ed-96f8-c749215d2dd7",
   "metadata": {},
   "outputs": [],
   "source": [
    "import numpy as np\n",
    "\n",
    "# Clean sh30m: convert to numeric and fill missing values temporarily\n",
    "data['sh30m'] = pd.to_numeric(data['sh30m'], errors='coerce')\n",
    "\n",
    "# Compute fuel_code only for valid rows\n",
    "data['fuel_code'] = np.floor(data['sh30m'] / 10).astype('Int64')   # Int64 allows NaN\n",
    "\n",
    "\n",
    "fuel_mapping = {\n",
    "    1: 'electricity',\n",
    "    2: 'gas',\n",
    "    3: 'biogas',\n",
    "    4: 'kerosene',\n",
    "    5: 'charcoal',\n",
    "    6: 'wood',\n",
    "    7: 'crop_residue',\n",
    "    8: 'animal_dung',\n",
    "    9: 'other'\n",
    "}\n",
    "\n",
    "data['fuel_type'] = data['fuel_code'].map(fuel_mapping)\n"
   ]
  },
  {
   "cell_type": "code",
   "execution_count": 58,
   "id": "4f3e1cc4-1bd2-42b1-86d9-90b6498884a7",
   "metadata": {},
   "outputs": [
    {
     "name": "stdout",
     "output_type": "stream",
     "text": [
      "fuel_category\n",
      "Gas         0.500283\n",
      "Other       0.354438\n",
      "Firewood    0.145280\n",
      "Name: proportion, dtype: float64\n"
     ]
    }
   ],
   "source": [
    "fuel_mapping = {\n",
    "    1: 'electricity',\n",
    "    2: 'gas',\n",
    "    3: 'biogas',\n",
    "    4: 'kerosene',\n",
    "    5: 'charcoal',\n",
    "    6: 'wood',\n",
    "    7: 'crop_residue',\n",
    "    8: 'animal_dung',\n",
    "    9: 'other'\n",
    "}\n",
    "\n",
    "data['fuel_type'] = data['fuel_code'].map(fuel_mapping)\n",
    "\n",
    "def classify_fuel(f):\n",
    "    if f in ['wood', 'charcoal', 'crop_residue', 'animal_dung']:\n",
    "        return 'Firewood'\n",
    "    elif f in ['gas', 'biogas','kerosene']:\n",
    "        return 'Gas'\n",
    "    else:\n",
    "        return 'Other'\n",
    "\n",
    "data['fuel_category'] = data['fuel_type'].apply(classify_fuel)\n",
    "\n",
    "print(data['fuel_category'].value_counts(normalize=True))\n"
   ]
  },
  {
   "cell_type": "markdown",
   "id": "e96958a4-5587-4d9e-889f-d2715391e9b1",
   "metadata": {},
   "source": [
    "## selecting relevant columns"
   ]
  },
  {
   "cell_type": "code",
   "execution_count": 59,
   "id": "4dd5fb8a-87ac-44a2-95f5-9bbfe43a8124",
   "metadata": {},
   "outputs": [
    {
     "name": "stdout",
     "output_type": "stream",
     "text": [
      "   hv001                hv024  hv025  hv009 hv206  sh27 shniv_01 shecr_01  \\\n",
      "0      1  adam /nord/ext-nord  rural      5    no   3.0      NaN       no   \n",
      "1      1  adam /nord/ext-nord  rural      6    no   6.0      NaN       no   \n",
      "2      1  adam /nord/ext-nord  rural      4    no   4.0      NaN       no   \n",
      "3      1  adam /nord/ext-nord  rural      8    no   8.0      NaN       no   \n",
      "4      1  adam /nord/ext-nord  rural      5    no   5.0      NaN       no   \n",
      "\n",
      "  hv219 hv220 fuel_category  \n",
      "0  male  36.0           Gas  \n",
      "1  male  35.0           Gas  \n",
      "2  male  50.0           Gas  \n",
      "3  male  48.0      Firewood  \n",
      "4  male  45.0      Firewood  \n"
     ]
    }
   ],
   "source": [
    "predictor_cols = [\n",
    "    'hv001',     # cluster/community\n",
    "    'hv024',     # region\n",
    "    'hv025',     # urban/rural\n",
    "    'hv009',     # household size\n",
    "    'hv206',     # electricity access\n",
    "    'sh27',      # wealth category\n",
    "    'shniv_01',  # education level (niveau)\n",
    "    'shecr_01',  # years of education\n",
    "    'hv219',     # sex of household head\n",
    "    'hv220',     # age of household head\n",
    "    'fuel_category'  # from your previous step\n",
    "]\n",
    "\n",
    "socio_df = data[predictor_cols].copy()\n",
    "print(socio_df.head())\n"
   ]
  },
  {
   "cell_type": "markdown",
   "id": "9a1b5b22-eb16-4d13-a9c0-7d41808419fe",
   "metadata": {},
   "source": [
    "# clean and standardize predictors"
   ]
  },
  {
   "cell_type": "code",
   "execution_count": 62,
   "id": "3a59fd7b-0205-41c5-b048-86ffd2af9215",
   "metadata": {},
   "outputs": [],
   "source": [
    "# converting numeric codes to readable text\n",
    "socio_df['urban_rural'] = socio_df['hv025'].replace({1: 'Urban', 2: 'Rural'})\n",
    "socio_df['electricity'] = socio_df['hv206'].replace({1: 'Yes', 0: 'No'})\n",
    "socio_df['sex_head'] = socio_df['hv219'].replace({1: 'Male', 2: 'Female'})\n"
   ]
  },
  {
   "cell_type": "code",
   "execution_count": 64,
   "id": "38b5251f-fbf5-408d-a28b-512c33013b69",
   "metadata": {},
   "outputs": [],
   "source": [
    "#handling education and wealth\n",
    "socio_df['sh27'] = pd.to_numeric(socio_df['sh27'], errors='coerce')        # wealth\n",
    "socio_df['shecr_01'] = pd.to_numeric(socio_df['shecr_01'], errors='coerce')# years of education\n",
    "socio_df['shniv_01'] = pd.to_numeric(socio_df['shniv_01'], errors='coerce')# education level\n",
    "socio_df['hv009'] = pd.to_numeric(socio_df['hv009'], errors='coerce')      # household size\n",
    "socio_df['hv220'] = pd.to_numeric(socio_df['hv220'], errors='coerce')      # age\n",
    "\n",
    "socio_df = socio_df.dropna(subset=['fuel_category'])\n"
   ]
  },
  {
   "cell_type": "code",
   "execution_count": 65,
   "id": "ab9a0850-6016-48c2-84a7-66ebe54fce51",
   "metadata": {},
   "outputs": [
    {
     "name": "stdout",
     "output_type": "stream",
     "text": [
      "                region urban_rural  firewood_share  gas_share  \\\n",
      "0      yaound /douala       urban        0.150538   0.494624   \n",
      "1      yaound /douala       rural             NaN        NaN   \n",
      "2  adam /nord/ext-nord       urban        0.155620   0.481268   \n",
      "3  adam /nord/ext-nord       rural        0.154818   0.527646   \n",
      "4      centre /sud/est       urban        0.081481   0.555556   \n",
      "\n",
      "   avg_household_size  avg_education  avg_education_level  avg_wealth  \\\n",
      "0            5.634409            NaN                  NaN    2.997849   \n",
      "1                 NaN            NaN                  NaN         NaN   \n",
      "2            6.325648            NaN                  NaN    3.247839   \n",
      "3            5.635071            NaN                  NaN    3.113924   \n",
      "4            6.770370            NaN                  NaN    3.088889   \n",
      "\n",
      "   electricity_rate    avg_age  \n",
      "0               0.0  38.239177  \n",
      "1               NaN        NaN  \n",
      "2               0.0  42.406340  \n",
      "3               0.0  43.370253  \n",
      "4               0.0  41.903704  \n"
     ]
    },
    {
     "name": "stderr",
     "output_type": "stream",
     "text": [
      "C:\\Users\\Owner\\AppData\\Local\\Temp\\ipykernel_27856\\2499538945.py:4: FutureWarning: The default of observed=False is deprecated and will be changed to True in a future version of pandas. Pass observed=False to retain current behavior or observed=True to adopt the future default and silence this warning.\n",
      "  .groupby(['hv024', 'urban_rural'])\n"
     ]
    }
   ],
   "source": [
    "#aggregate to community level\n",
    "agg_df = (\n",
    "    socio_df\n",
    "    .groupby(['hv024', 'urban_rural'])\n",
    "    .agg(\n",
    "        firewood_share=('fuel_category', lambda x: (x == 'Firewood').mean()),\n",
    "        gas_share=('fuel_category', lambda x: (x == 'Gas').mean()),\n",
    "        avg_household_size=('hv009', 'mean'),\n",
    "        avg_education=('shecr_01', 'mean'),\n",
    "        avg_education_level=('shniv_01', 'mean'),\n",
    "        avg_wealth=('sh27', 'mean'),\n",
    "        electricity_rate=('hv206', lambda x: (x == 1).mean()),\n",
    "        avg_age=('hv220', 'mean')\n",
    "    )\n",
    "    .reset_index()\n",
    ")\n",
    "\n",
    "agg_df.rename(columns={'hv024': 'region'}, inplace=True)\n",
    "print(agg_df.head())\n"
   ]
  },
  {
   "cell_type": "code",
   "execution_count": 66,
   "id": "990a38eb-f4eb-4ac8-a3e6-5f9e0ae2256d",
   "metadata": {},
   "outputs": [],
   "source": [
    "agg_df.to_csv(r\"C:\\Users\\Owner\\OneDrive\\Desktop\\Data\\cleaned_socioeconomic_cameroon.csv\", index=False)\n"
   ]
  },
  {
   "cell_type": "code",
   "execution_count": null,
   "id": "21f16559-3c43-4c94-8ba7-76890ddc4fff",
   "metadata": {},
   "outputs": [],
   "source": []
  }
 ],
 "metadata": {
  "kernelspec": {
   "display_name": "Python 3 (ipykernel)",
   "language": "python",
   "name": "python3"
  },
  "language_info": {
   "codemirror_mode": {
    "name": "ipython",
    "version": 3
   },
   "file_extension": ".py",
   "mimetype": "text/x-python",
   "name": "python",
   "nbconvert_exporter": "python",
   "pygments_lexer": "ipython3",
   "version": "3.12.7"
  }
 },
 "nbformat": 4,
 "nbformat_minor": 5
}
