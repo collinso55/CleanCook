{
 "cells": [
  {
   "cell_type": "code",
   "execution_count": 8,
   "id": "eb084de9-b90e-4fdc-b6eb-4fd3d0f8e517",
   "metadata": {},
   "outputs": [],
   "source": [
    "# --- Import dependencies ---\n",
    "import pandas as pd"
   ]
  },
  {
   "cell_type": "code",
   "execution_count": 9,
   "id": "07b517f4-2418-4008-bacd-aa5c74f55e7c",
   "metadata": {},
   "outputs": [],
   "source": [
    "# --- Define input and output file paths ---\n",
    "FIREWOOD_FILE = \"../data/processed/fuel_consumption_master_dataset_2010_2024.csv\"\n",
    "CLEANFUEL_FILE = \"../data/processed/cameroon_clean_cooking_simple_2010_2024.csv\"\n",
    "OUTFILE = \"../data/raw/merged_raw_hybrid.csv\""
   ]
  },
  {
   "cell_type": "code",
   "execution_count": 10,
   "id": "3f825430-0d80-4466-9dd2-37079c936726",
   "metadata": {},
   "outputs": [
    {
     "name": "stdout",
     "output_type": "stream",
     "text": [
      "Firewood dataset shape: (5479, 25)\n",
      "Clean fuel dataset shape: (5479, 12)\n"
     ]
    }
   ],
   "source": [
    "# --- STEP 3: Load both datasets ---\n",
    "fw = pd.read_csv(FIREWOOD_FILE)\n",
    "cf = pd.read_csv(CLEANFUEL_FILE)\n",
    "\n",
    "print(\"Firewood dataset shape:\", fw.shape)\n",
    "print(\"Clean fuel dataset shape:\", cf.shape)"
   ]
  },
  {
   "cell_type": "code",
   "execution_count": 11,
   "id": "e82a19ce-5b4c-4c24-9ebc-51deda33bbb0",
   "metadata": {},
   "outputs": [],
   "source": [
    "# --- STEP 4: Normalize column names ---\n",
    "fw.columns = fw.columns.str.lower()\n",
    "cf.columns = cf.columns.str.lower()"
   ]
  },
  {
   "cell_type": "code",
   "execution_count": 12,
   "id": "4fd92180-22ca-4f67-aa98-488cb9a56785",
   "metadata": {},
   "outputs": [],
   "source": [
    "# --- STEP 5: Identify region and year columns ---\n",
    "def find_col(df, candidates):\n",
    "    for c in candidates:\n",
    "        if c in df.columns:\n",
    "            return c\n",
    "    return None\n",
    "\n",
    "region_fw = find_col(fw, ['region','province','admin_name'])\n",
    "year_fw = find_col(fw, ['year','date'])\n",
    "year_cf = find_col(cf, ['year','date'])\n",
    "\n",
    "fw = fw.rename(columns={region_fw:'region', year_fw:'year'})\n",
    "cf = cf.rename(columns={year_cf:'year'})"
   ]
  },
  {
   "cell_type": "code",
   "execution_count": 13,
   "id": "6d6e655a-a457-43f8-bc98-60db1f8d8505",
   "metadata": {},
   "outputs": [
    {
     "name": "stdout",
     "output_type": "stream",
     "text": [
      "⚠️ Clean fuel dataset has no 'region' column — will be merged by year only.\n"
     ]
    }
   ],
   "source": [
    "\n",
    "# --- STEP 6: Verify clean fuel dataset (should be national-level) ---\n",
    "if 'region' not in cf.columns:\n",
    "    print(\"⚠️ Clean fuel dataset has no 'region' column — will be merged by year only.\")\n"
   ]
  },
  {
   "cell_type": "code",
   "execution_count": 14,
   "id": "ddf8cd25-5f59-41bd-9e26-208b27c2d4fb",
   "metadata": {},
   "outputs": [
    {
     "name": "stdout",
     "output_type": "stream",
     "text": [
      "\n",
      "✅ Hybrid merge complete!\n",
      "Merged shape: (2001299, 36)\n"
     ]
    },
    {
     "data": {
      "text/html": [
       "<div>\n",
       "<style scoped>\n",
       "    .dataframe tbody tr th:only-of-type {\n",
       "        vertical-align: middle;\n",
       "    }\n",
       "\n",
       "    .dataframe tbody tr th {\n",
       "        vertical-align: top;\n",
       "    }\n",
       "\n",
       "    .dataframe thead th {\n",
       "        text-align: right;\n",
       "    }\n",
       "</style>\n",
       "<table border=\"1\" class=\"dataframe\">\n",
       "  <thead>\n",
       "    <tr style=\"text-align: right;\">\n",
       "      <th></th>\n",
       "      <th>date_x</th>\n",
       "      <th>temperature_avg</th>\n",
       "      <th>rainfall_mm</th>\n",
       "      <th>humidity_avg</th>\n",
       "      <th>wind_speed_kmh</th>\n",
       "      <th>season</th>\n",
       "      <th>woodfuel_production_m3</th>\n",
       "      <th>year</th>\n",
       "      <th>month_x</th>\n",
       "      <th>quarter_x</th>\n",
       "      <th>...</th>\n",
       "      <th>month_y</th>\n",
       "      <th>quarter_y</th>\n",
       "      <th>day_of_year_y</th>\n",
       "      <th>day_of_week_y</th>\n",
       "      <th>is_weekend_y</th>\n",
       "      <th>clean_fuel_access</th>\n",
       "      <th>country</th>\n",
       "      <th>country_code</th>\n",
       "      <th>series_name</th>\n",
       "      <th>series_code</th>\n",
       "    </tr>\n",
       "  </thead>\n",
       "  <tbody>\n",
       "    <tr>\n",
       "      <th>0</th>\n",
       "      <td>2010-01-01</td>\n",
       "      <td>12.0</td>\n",
       "      <td>0.2</td>\n",
       "      <td>73.0</td>\n",
       "      <td>10.1</td>\n",
       "      <td>Dry</td>\n",
       "      <td>37258.41</td>\n",
       "      <td>2010</td>\n",
       "      <td>1</td>\n",
       "      <td>1</td>\n",
       "      <td>...</td>\n",
       "      <td>1</td>\n",
       "      <td>1</td>\n",
       "      <td>1</td>\n",
       "      <td>4</td>\n",
       "      <td>0</td>\n",
       "      <td>2.000</td>\n",
       "      <td>Cameroon</td>\n",
       "      <td>CMR</td>\n",
       "      <td>Access to clean fuels and technologies for coo...</td>\n",
       "      <td>EG.CFT.ACCS.RU.ZS</td>\n",
       "    </tr>\n",
       "    <tr>\n",
       "      <th>1</th>\n",
       "      <td>2010-01-01</td>\n",
       "      <td>12.0</td>\n",
       "      <td>0.2</td>\n",
       "      <td>73.0</td>\n",
       "      <td>10.1</td>\n",
       "      <td>Dry</td>\n",
       "      <td>37258.41</td>\n",
       "      <td>2010</td>\n",
       "      <td>1</td>\n",
       "      <td>1</td>\n",
       "      <td>...</td>\n",
       "      <td>1</td>\n",
       "      <td>1</td>\n",
       "      <td>2</td>\n",
       "      <td>5</td>\n",
       "      <td>1</td>\n",
       "      <td>2.000</td>\n",
       "      <td>Cameroon</td>\n",
       "      <td>CMR</td>\n",
       "      <td>Access to clean fuels and technologies for coo...</td>\n",
       "      <td>EG.CFT.ACCS.RU.ZS</td>\n",
       "    </tr>\n",
       "    <tr>\n",
       "      <th>2</th>\n",
       "      <td>2010-01-01</td>\n",
       "      <td>12.0</td>\n",
       "      <td>0.2</td>\n",
       "      <td>73.0</td>\n",
       "      <td>10.1</td>\n",
       "      <td>Dry</td>\n",
       "      <td>37258.41</td>\n",
       "      <td>2010</td>\n",
       "      <td>1</td>\n",
       "      <td>1</td>\n",
       "      <td>...</td>\n",
       "      <td>1</td>\n",
       "      <td>1</td>\n",
       "      <td>3</td>\n",
       "      <td>6</td>\n",
       "      <td>1</td>\n",
       "      <td>2.001</td>\n",
       "      <td>Cameroon</td>\n",
       "      <td>CMR</td>\n",
       "      <td>Access to clean fuels and technologies for coo...</td>\n",
       "      <td>EG.CFT.ACCS.RU.ZS</td>\n",
       "    </tr>\n",
       "    <tr>\n",
       "      <th>3</th>\n",
       "      <td>2010-01-01</td>\n",
       "      <td>12.0</td>\n",
       "      <td>0.2</td>\n",
       "      <td>73.0</td>\n",
       "      <td>10.1</td>\n",
       "      <td>Dry</td>\n",
       "      <td>37258.41</td>\n",
       "      <td>2010</td>\n",
       "      <td>1</td>\n",
       "      <td>1</td>\n",
       "      <td>...</td>\n",
       "      <td>1</td>\n",
       "      <td>1</td>\n",
       "      <td>4</td>\n",
       "      <td>0</td>\n",
       "      <td>0</td>\n",
       "      <td>2.001</td>\n",
       "      <td>Cameroon</td>\n",
       "      <td>CMR</td>\n",
       "      <td>Access to clean fuels and technologies for coo...</td>\n",
       "      <td>EG.CFT.ACCS.RU.ZS</td>\n",
       "    </tr>\n",
       "    <tr>\n",
       "      <th>4</th>\n",
       "      <td>2010-01-01</td>\n",
       "      <td>12.0</td>\n",
       "      <td>0.2</td>\n",
       "      <td>73.0</td>\n",
       "      <td>10.1</td>\n",
       "      <td>Dry</td>\n",
       "      <td>37258.41</td>\n",
       "      <td>2010</td>\n",
       "      <td>1</td>\n",
       "      <td>1</td>\n",
       "      <td>...</td>\n",
       "      <td>1</td>\n",
       "      <td>1</td>\n",
       "      <td>5</td>\n",
       "      <td>1</td>\n",
       "      <td>0</td>\n",
       "      <td>2.005</td>\n",
       "      <td>Cameroon</td>\n",
       "      <td>CMR</td>\n",
       "      <td>Access to clean fuels and technologies for coo...</td>\n",
       "      <td>EG.CFT.ACCS.RU.ZS</td>\n",
       "    </tr>\n",
       "  </tbody>\n",
       "</table>\n",
       "<p>5 rows × 36 columns</p>\n",
       "</div>"
      ],
      "text/plain": [
       "       date_x  temperature_avg  rainfall_mm  humidity_avg  wind_speed_kmh  \\\n",
       "0  2010-01-01             12.0          0.2          73.0            10.1   \n",
       "1  2010-01-01             12.0          0.2          73.0            10.1   \n",
       "2  2010-01-01             12.0          0.2          73.0            10.1   \n",
       "3  2010-01-01             12.0          0.2          73.0            10.1   \n",
       "4  2010-01-01             12.0          0.2          73.0            10.1   \n",
       "\n",
       "  season  woodfuel_production_m3  year  month_x  quarter_x  ...  month_y  \\\n",
       "0    Dry                37258.41  2010        1          1  ...        1   \n",
       "1    Dry                37258.41  2010        1          1  ...        1   \n",
       "2    Dry                37258.41  2010        1          1  ...        1   \n",
       "3    Dry                37258.41  2010        1          1  ...        1   \n",
       "4    Dry                37258.41  2010        1          1  ...        1   \n",
       "\n",
       "   quarter_y  day_of_year_y  day_of_week_y  is_weekend_y  clean_fuel_access  \\\n",
       "0          1              1              4             0              2.000   \n",
       "1          1              2              5             1              2.000   \n",
       "2          1              3              6             1              2.001   \n",
       "3          1              4              0             0              2.001   \n",
       "4          1              5              1             0              2.005   \n",
       "\n",
       "    country  country_code                                        series_name  \\\n",
       "0  Cameroon           CMR  Access to clean fuels and technologies for coo...   \n",
       "1  Cameroon           CMR  Access to clean fuels and technologies for coo...   \n",
       "2  Cameroon           CMR  Access to clean fuels and technologies for coo...   \n",
       "3  Cameroon           CMR  Access to clean fuels and technologies for coo...   \n",
       "4  Cameroon           CMR  Access to clean fuels and technologies for coo...   \n",
       "\n",
       "         series_code  \n",
       "0  EG.CFT.ACCS.RU.ZS  \n",
       "1  EG.CFT.ACCS.RU.ZS  \n",
       "2  EG.CFT.ACCS.RU.ZS  \n",
       "3  EG.CFT.ACCS.RU.ZS  \n",
       "4  EG.CFT.ACCS.RU.ZS  \n",
       "\n",
       "[5 rows x 36 columns]"
      ]
     },
     "metadata": {},
     "output_type": "display_data"
    }
   ],
   "source": [
    "# --- STEP 7: Merge clean fuel data into every region by year ---\n",
    "merged = pd.merge(fw, cf, on='year', how='left')\n",
    "\n",
    "print(\"\\n✅ Hybrid merge complete!\")\n",
    "print(\"Merged shape:\", merged.shape)\n",
    "display(merged.head())"
   ]
  },
  {
   "cell_type": "code",
   "execution_count": 15,
   "id": "05f00c4d-f825-444a-a634-d6f42b3b0e68",
   "metadata": {},
   "outputs": [
    {
     "name": "stdout",
     "output_type": "stream",
     "text": [
      "\n",
      "💾 Saved hybrid merged dataset as ../data/raw/merged_raw_hybrid.csv\n"
     ]
    }
   ],
   "source": [
    "\n",
    "# --- STEP 8: Save for preprocessing ---\n",
    "merged.to_csv(OUTFILE, index=False)\n",
    "print(f\"\\n💾 Saved hybrid merged dataset as {OUTFILE}\")"
   ]
  },
  {
   "cell_type": "code",
   "execution_count": null,
   "id": "7a74ea9a-4a92-41c3-8a3e-46a6ad067b2d",
   "metadata": {},
   "outputs": [],
   "source": []
  }
 ],
 "metadata": {
  "kernelspec": {
   "display_name": "Python 3 (ipykernel)",
   "language": "python",
   "name": "python3"
  },
  "language_info": {
   "codemirror_mode": {
    "name": "ipython",
    "version": 3
   },
   "file_extension": ".py",
   "mimetype": "text/x-python",
   "name": "python",
   "nbconvert_exporter": "python",
   "pygments_lexer": "ipython3",
   "version": "3.12.7"
  }
 },
 "nbformat": 4,
 "nbformat_minor": 5
}
