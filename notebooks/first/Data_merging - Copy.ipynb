{
 "cells": [
  {
   "cell_type": "code",
   "execution_count": 7,
   "id": "eb084de9-b90e-4fdc-b6eb-4fd3d0f8e517",
   "metadata": {},
   "outputs": [],
   "source": [
    "# --- Import dependencies ---\n",
    "import pandas as pd"
   ]
  },
  {
   "cell_type": "code",
   "execution_count": 8,
   "id": "07b517f4-2418-4008-bacd-aa5c74f55e7c",
   "metadata": {},
   "outputs": [],
   "source": [
    "# --- Define input and output file paths ---\n",
    "FIREWOOD_FILE = \"../data/processed/fuel_consumption_master_dataset_2010_2024.csv\"\n",
    "CLEANFUEL_FILE = \"../data/processed/cameroon_clean_cooking_simple_2010_2024.csv\"\n",
    "OUTFILE = \"../data/raw/merged_raw_hybrid.csv\""
   ]
  },
  {
   "cell_type": "code",
   "execution_count": 9,
   "id": "3f825430-0d80-4466-9dd2-37079c936726",
   "metadata": {},
   "outputs": [
    {
     "name": "stdout",
     "output_type": "stream",
     "text": [
      "Firewood dataset shape: (5479, 25)\n",
      "Clean fuel dataset shape: (5479, 12)\n"
     ]
    }
   ],
   "source": [
    "# --- STEP 3: Load both datasets ---\n",
    "fw = pd.read_csv(FIREWOOD_FILE)\n",
    "cf = pd.read_csv(CLEANFUEL_FILE)\n",
    "\n",
    "print(\"Firewood dataset shape:\", fw.shape)\n",
    "print(\"Clean fuel dataset shape:\", cf.shape)"
   ]
  },
  {
   "cell_type": "code",
   "execution_count": 10,
   "id": "e82a19ce-5b4c-4c24-9ebc-51deda33bbb0",
   "metadata": {},
   "outputs": [],
   "source": [
    "# --- STEP 4: Normalize column names ---\n",
    "fw.columns = fw.columns.str.lower()\n",
    "cf.columns = cf.columns.str.lower()"
   ]
  },
  {
   "cell_type": "code",
   "execution_count": 11,
   "id": "4fd92180-22ca-4f67-aa98-488cb9a56785",
   "metadata": {},
   "outputs": [
    {
     "ename": "KeyError",
     "evalue": "\"Could not find region or year column in firewood dataset.\\nAvailable columns:\\n['date', 'temperature_avg', 'rainfall_mm', 'humidity_avg', 'wind_speed_kmh', 'season', 'woodfuel_production_m3', 'year', 'month', 'quarter', 'day_of_year', 'day_of_week', 'is_weekend', 'temp_7d_avg', 'temp_30d_avg', 'temperature_lag1', 'rainfall_7d_avg', 'rainfall_30d_cumulative', 'rainfall_lag1', 'woodfuel_7d_avg', 'woodfuel_30d_avg', 'woodfuel_lag1', 'woodfuel_lag7', 'is_dry_season', 'is_rainy_season']\"",
     "output_type": "error",
     "traceback": [
      "\u001b[31m---------------------------------------------------------------------------\u001b[39m",
      "\u001b[31mKeyError\u001b[39m                                  Traceback (most recent call last)",
      "\u001b[36mCell\u001b[39m\u001b[36m \u001b[39m\u001b[32mIn[11]\u001b[39m\u001b[32m, line 13\u001b[39m\n\u001b[32m     10\u001b[39m year_fw = find_col(fw, [\u001b[33m'\u001b[39m\u001b[33myear\u001b[39m\u001b[33m'\u001b[39m,\u001b[33m'\u001b[39m\u001b[33mdate\u001b[39m\u001b[33m'\u001b[39m,\u001b[33m'\u001b[39m\u001b[33msurvey_year\u001b[39m\u001b[33m'\u001b[39m])\n\u001b[32m     12\u001b[39m \u001b[38;5;28;01mif\u001b[39;00m region_fw \u001b[38;5;129;01mis\u001b[39;00m \u001b[38;5;28;01mNone\u001b[39;00m \u001b[38;5;129;01mor\u001b[39;00m year_fw \u001b[38;5;129;01mis\u001b[39;00m \u001b[38;5;28;01mNone\u001b[39;00m:\n\u001b[32m---> \u001b[39m\u001b[32m13\u001b[39m     \u001b[38;5;28;01mraise\u001b[39;00m \u001b[38;5;167;01mKeyError\u001b[39;00m(\n\u001b[32m     14\u001b[39m         \u001b[33mf\u001b[39m\u001b[33m\"\u001b[39m\u001b[33mCould not find region or year column in firewood dataset.\u001b[39m\u001b[38;5;130;01m\\n\u001b[39;00m\u001b[33m\"\u001b[39m\n\u001b[32m     15\u001b[39m         \u001b[33mf\u001b[39m\u001b[33m\"\u001b[39m\u001b[33mAvailable columns:\u001b[39m\u001b[38;5;130;01m\\n\u001b[39;00m\u001b[38;5;132;01m{\u001b[39;00mfw.columns.tolist()\u001b[38;5;132;01m}\u001b[39;00m\u001b[33m\"\u001b[39m\n\u001b[32m     16\u001b[39m     )\n\u001b[32m     18\u001b[39m fw = fw.rename(columns={region_fw:\u001b[33m'\u001b[39m\u001b[33mregion\u001b[39m\u001b[33m'\u001b[39m, year_fw:\u001b[33m'\u001b[39m\u001b[33myear\u001b[39m\u001b[33m'\u001b[39m})\n\u001b[32m     19\u001b[39m \u001b[38;5;28mprint\u001b[39m(\u001b[33mf\u001b[39m\u001b[33m\"\u001b[39m\u001b[38;5;130;01m\\n\u001b[39;00m\u001b[33m✅ Using columns: region=\u001b[39m\u001b[33m'\u001b[39m\u001b[38;5;132;01m{\u001b[39;00mregion_fw\u001b[38;5;132;01m}\u001b[39;00m\u001b[33m'\u001b[39m\u001b[33m, year=\u001b[39m\u001b[33m'\u001b[39m\u001b[38;5;132;01m{\u001b[39;00myear_fw\u001b[38;5;132;01m}\u001b[39;00m\u001b[33m'\u001b[39m\u001b[33m\"\u001b[39m)\n",
      "\u001b[31mKeyError\u001b[39m: \"Could not find region or year column in firewood dataset.\\nAvailable columns:\\n['date', 'temperature_avg', 'rainfall_mm', 'humidity_avg', 'wind_speed_kmh', 'season', 'woodfuel_production_m3', 'year', 'month', 'quarter', 'day_of_year', 'day_of_week', 'is_weekend', 'temp_7d_avg', 'temp_30d_avg', 'temperature_lag1', 'rainfall_7d_avg', 'rainfall_30d_cumulative', 'rainfall_lag1', 'woodfuel_7d_avg', 'woodfuel_30d_avg', 'woodfuel_lag1', 'woodfuel_lag7', 'is_dry_season', 'is_rainy_season']\""
     ]
    }
   ],
   "source": [
    "# --- STEP 4: Identify region/year columns in firewood dataset ---\n",
    "def find_col(df, candidates):\n",
    "    for c in candidates:\n",
    "        for col in df.columns:\n",
    "            if c in col:\n",
    "                return col\n",
    "    return None\n",
    "\n",
    "region_fw = find_col(fw, ['region','province','admin_name','adm_name','shprov'])\n",
    "year_fw = find_col(fw, ['year','date','survey_year'])\n",
    "\n",
    "if region_fw is None or year_fw is None:\n",
    "    raise KeyError(\n",
    "        f\"Could not find region or year column in firewood dataset.\\n\"\n",
    "        f\"Available columns:\\n{fw.columns.tolist()}\"\n",
    "    )\n",
    "\n",
    "fw = fw.rename(columns={region_fw:'region', year_fw:'year'})\n",
    "print(f\"\\n✅ Using columns: region='{region_fw}', year='{year_fw}'\")\n"
   ]
  },
  {
   "cell_type": "code",
   "execution_count": 6,
   "id": "6d6e655a-a457-43f8-bc98-60db1f8d8505",
   "metadata": {},
   "outputs": [
    {
     "ename": "KeyError",
     "evalue": "'region'",
     "output_type": "error",
     "traceback": [
      "\u001b[31m---------------------------------------------------------------------------\u001b[39m",
      "\u001b[31mKeyError\u001b[39m                                  Traceback (most recent call last)",
      "\u001b[36mCell\u001b[39m\u001b[36m \u001b[39m\u001b[32mIn[6]\u001b[39m\u001b[32m, line 3\u001b[39m\n\u001b[32m      1\u001b[39m \u001b[38;5;66;03m# --- STEP 6: Aggregate firewood dataset to unique region-year level ---\u001b[39;00m\n\u001b[32m      2\u001b[39m \u001b[38;5;66;03m# Take mean for numeric columns (safest default)\u001b[39;00m\n\u001b[32m----> \u001b[39m\u001b[32m3\u001b[39m fw_agg = fw.groupby([\u001b[33m'\u001b[39m\u001b[33mregion\u001b[39m\u001b[33m'\u001b[39m,\u001b[33m'\u001b[39m\u001b[33myear\u001b[39m\u001b[33m'\u001b[39m], as_index=\u001b[38;5;28;01mFalse\u001b[39;00m).mean(numeric_only=\u001b[38;5;28;01mTrue\u001b[39;00m)\n\u001b[32m      4\u001b[39m \u001b[38;5;28mprint\u001b[39m(\u001b[33mf\u001b[39m\u001b[33m\"\u001b[39m\u001b[38;5;130;01m\\n\u001b[39;00m\u001b[33m✅ Aggregated firewood dataset shape: \u001b[39m\u001b[38;5;132;01m{\u001b[39;00mfw_agg.shape\u001b[38;5;132;01m}\u001b[39;00m\u001b[33m\"\u001b[39m)\n\u001b[32m      5\u001b[39m \u001b[38;5;28mprint\u001b[39m(\u001b[33mf\u001b[39m\u001b[33m\"\u001b[39m\u001b[33mUnique region-year pairs: \u001b[39m\u001b[38;5;132;01m{\u001b[39;00mfw_agg[[\u001b[33m'\u001b[39m\u001b[33mregion\u001b[39m\u001b[33m'\u001b[39m,\u001b[33m'\u001b[39m\u001b[33myear\u001b[39m\u001b[33m'\u001b[39m]].drop_duplicates().shape[\u001b[32m0\u001b[39m]\u001b[38;5;132;01m}\u001b[39;00m\u001b[33m\"\u001b[39m)\n",
      "\u001b[36mFile \u001b[39m\u001b[32m~\\miniconda3\\Lib\\site-packages\\pandas\\core\\frame.py:9190\u001b[39m, in \u001b[36mDataFrame.groupby\u001b[39m\u001b[34m(self, by, axis, level, as_index, sort, group_keys, observed, dropna)\u001b[39m\n\u001b[32m   9187\u001b[39m \u001b[38;5;28;01mif\u001b[39;00m level \u001b[38;5;129;01mis\u001b[39;00m \u001b[38;5;28;01mNone\u001b[39;00m \u001b[38;5;129;01mand\u001b[39;00m by \u001b[38;5;129;01mis\u001b[39;00m \u001b[38;5;28;01mNone\u001b[39;00m:\n\u001b[32m   9188\u001b[39m     \u001b[38;5;28;01mraise\u001b[39;00m \u001b[38;5;167;01mTypeError\u001b[39;00m(\u001b[33m\"\u001b[39m\u001b[33mYou have to supply one of \u001b[39m\u001b[33m'\u001b[39m\u001b[33mby\u001b[39m\u001b[33m'\u001b[39m\u001b[33m and \u001b[39m\u001b[33m'\u001b[39m\u001b[33mlevel\u001b[39m\u001b[33m'\u001b[39m\u001b[33m\"\u001b[39m)\n\u001b[32m-> \u001b[39m\u001b[32m9190\u001b[39m \u001b[38;5;28;01mreturn\u001b[39;00m DataFrameGroupBy(\n\u001b[32m   9191\u001b[39m     obj=\u001b[38;5;28mself\u001b[39m,\n\u001b[32m   9192\u001b[39m     keys=by,\n\u001b[32m   9193\u001b[39m     axis=axis,\n\u001b[32m   9194\u001b[39m     level=level,\n\u001b[32m   9195\u001b[39m     as_index=as_index,\n\u001b[32m   9196\u001b[39m     sort=sort,\n\u001b[32m   9197\u001b[39m     group_keys=group_keys,\n\u001b[32m   9198\u001b[39m     observed=observed,\n\u001b[32m   9199\u001b[39m     dropna=dropna,\n\u001b[32m   9200\u001b[39m )\n",
      "\u001b[36mFile \u001b[39m\u001b[32m~\\miniconda3\\Lib\\site-packages\\pandas\\core\\groupby\\groupby.py:1330\u001b[39m, in \u001b[36mGroupBy.__init__\u001b[39m\u001b[34m(self, obj, keys, axis, level, grouper, exclusions, selection, as_index, sort, group_keys, observed, dropna)\u001b[39m\n\u001b[32m   1327\u001b[39m \u001b[38;5;28mself\u001b[39m.dropna = dropna\n\u001b[32m   1329\u001b[39m \u001b[38;5;28;01mif\u001b[39;00m grouper \u001b[38;5;129;01mis\u001b[39;00m \u001b[38;5;28;01mNone\u001b[39;00m:\n\u001b[32m-> \u001b[39m\u001b[32m1330\u001b[39m     grouper, exclusions, obj = get_grouper(\n\u001b[32m   1331\u001b[39m         obj,\n\u001b[32m   1332\u001b[39m         keys,\n\u001b[32m   1333\u001b[39m         axis=axis,\n\u001b[32m   1334\u001b[39m         level=level,\n\u001b[32m   1335\u001b[39m         sort=sort,\n\u001b[32m   1336\u001b[39m         observed=\u001b[38;5;28;01mFalse\u001b[39;00m \u001b[38;5;28;01mif\u001b[39;00m observed \u001b[38;5;129;01mis\u001b[39;00m lib.no_default \u001b[38;5;28;01melse\u001b[39;00m observed,\n\u001b[32m   1337\u001b[39m         dropna=\u001b[38;5;28mself\u001b[39m.dropna,\n\u001b[32m   1338\u001b[39m     )\n\u001b[32m   1340\u001b[39m \u001b[38;5;28;01mif\u001b[39;00m observed \u001b[38;5;129;01mis\u001b[39;00m lib.no_default:\n\u001b[32m   1341\u001b[39m     \u001b[38;5;28;01mif\u001b[39;00m \u001b[38;5;28many\u001b[39m(ping._passed_categorical \u001b[38;5;28;01mfor\u001b[39;00m ping \u001b[38;5;129;01min\u001b[39;00m grouper.groupings):\n",
      "\u001b[36mFile \u001b[39m\u001b[32m~\\miniconda3\\Lib\\site-packages\\pandas\\core\\groupby\\grouper.py:1043\u001b[39m, in \u001b[36mget_grouper\u001b[39m\u001b[34m(obj, key, axis, level, sort, observed, validate, dropna)\u001b[39m\n\u001b[32m   1041\u001b[39m         in_axis, level, gpr = \u001b[38;5;28;01mFalse\u001b[39;00m, gpr, \u001b[38;5;28;01mNone\u001b[39;00m\n\u001b[32m   1042\u001b[39m     \u001b[38;5;28;01melse\u001b[39;00m:\n\u001b[32m-> \u001b[39m\u001b[32m1043\u001b[39m         \u001b[38;5;28;01mraise\u001b[39;00m \u001b[38;5;167;01mKeyError\u001b[39;00m(gpr)\n\u001b[32m   1044\u001b[39m \u001b[38;5;28;01melif\u001b[39;00m \u001b[38;5;28misinstance\u001b[39m(gpr, Grouper) \u001b[38;5;129;01mand\u001b[39;00m gpr.key \u001b[38;5;129;01mis\u001b[39;00m \u001b[38;5;129;01mnot\u001b[39;00m \u001b[38;5;28;01mNone\u001b[39;00m:\n\u001b[32m   1045\u001b[39m     \u001b[38;5;66;03m# Add key to exclusions\u001b[39;00m\n\u001b[32m   1046\u001b[39m     exclusions.add(gpr.key)\n",
      "\u001b[31mKeyError\u001b[39m: 'region'"
     ]
    }
   ],
   "source": [
    "# --- STEP 5: Clean region/year columns ---\n",
    "fw['region'] = fw['region'].astype(str).str.strip().str.lower()\n",
    "fw['year'] = pd.to_numeric(fw['year'], errors='coerce').astype('Int64')\n"
   ]
  },
  {
   "cell_type": "code",
   "execution_count": 22,
   "id": "ddf8cd25-5f59-41bd-9e26-208b27c2d4fb",
   "metadata": {},
   "outputs": [
    {
     "name": "stdout",
     "output_type": "stream",
     "text": [
      "\n",
      "✅ Hybrid merge complete!\n",
      "Merged shape: (2001299, 36)\n"
     ]
    },
    {
     "data": {
      "text/html": [
       "<div>\n",
       "<style scoped>\n",
       "    .dataframe tbody tr th:only-of-type {\n",
       "        vertical-align: middle;\n",
       "    }\n",
       "\n",
       "    .dataframe tbody tr th {\n",
       "        vertical-align: top;\n",
       "    }\n",
       "\n",
       "    .dataframe thead th {\n",
       "        text-align: right;\n",
       "    }\n",
       "</style>\n",
       "<table border=\"1\" class=\"dataframe\">\n",
       "  <thead>\n",
       "    <tr style=\"text-align: right;\">\n",
       "      <th></th>\n",
       "      <th>date_x</th>\n",
       "      <th>temperature_avg</th>\n",
       "      <th>rainfall_mm</th>\n",
       "      <th>humidity_avg</th>\n",
       "      <th>wind_speed_kmh</th>\n",
       "      <th>season</th>\n",
       "      <th>woodfuel_production_m3</th>\n",
       "      <th>year</th>\n",
       "      <th>month_x</th>\n",
       "      <th>quarter_x</th>\n",
       "      <th>...</th>\n",
       "      <th>month_y</th>\n",
       "      <th>quarter_y</th>\n",
       "      <th>day_of_year_y</th>\n",
       "      <th>day_of_week_y</th>\n",
       "      <th>is_weekend_y</th>\n",
       "      <th>clean_fuel_access</th>\n",
       "      <th>country</th>\n",
       "      <th>country_code</th>\n",
       "      <th>series_name</th>\n",
       "      <th>series_code</th>\n",
       "    </tr>\n",
       "  </thead>\n",
       "  <tbody>\n",
       "    <tr>\n",
       "      <th>0</th>\n",
       "      <td>2010-01-01</td>\n",
       "      <td>12.0</td>\n",
       "      <td>0.2</td>\n",
       "      <td>73.0</td>\n",
       "      <td>10.1</td>\n",
       "      <td>Dry</td>\n",
       "      <td>37258.41</td>\n",
       "      <td>2010</td>\n",
       "      <td>1</td>\n",
       "      <td>1</td>\n",
       "      <td>...</td>\n",
       "      <td>1</td>\n",
       "      <td>1</td>\n",
       "      <td>1</td>\n",
       "      <td>4</td>\n",
       "      <td>0</td>\n",
       "      <td>2.000</td>\n",
       "      <td>Cameroon</td>\n",
       "      <td>CMR</td>\n",
       "      <td>Access to clean fuels and technologies for coo...</td>\n",
       "      <td>EG.CFT.ACCS.RU.ZS</td>\n",
       "    </tr>\n",
       "    <tr>\n",
       "      <th>1</th>\n",
       "      <td>2010-01-01</td>\n",
       "      <td>12.0</td>\n",
       "      <td>0.2</td>\n",
       "      <td>73.0</td>\n",
       "      <td>10.1</td>\n",
       "      <td>Dry</td>\n",
       "      <td>37258.41</td>\n",
       "      <td>2010</td>\n",
       "      <td>1</td>\n",
       "      <td>1</td>\n",
       "      <td>...</td>\n",
       "      <td>1</td>\n",
       "      <td>1</td>\n",
       "      <td>2</td>\n",
       "      <td>5</td>\n",
       "      <td>1</td>\n",
       "      <td>2.000</td>\n",
       "      <td>Cameroon</td>\n",
       "      <td>CMR</td>\n",
       "      <td>Access to clean fuels and technologies for coo...</td>\n",
       "      <td>EG.CFT.ACCS.RU.ZS</td>\n",
       "    </tr>\n",
       "    <tr>\n",
       "      <th>2</th>\n",
       "      <td>2010-01-01</td>\n",
       "      <td>12.0</td>\n",
       "      <td>0.2</td>\n",
       "      <td>73.0</td>\n",
       "      <td>10.1</td>\n",
       "      <td>Dry</td>\n",
       "      <td>37258.41</td>\n",
       "      <td>2010</td>\n",
       "      <td>1</td>\n",
       "      <td>1</td>\n",
       "      <td>...</td>\n",
       "      <td>1</td>\n",
       "      <td>1</td>\n",
       "      <td>3</td>\n",
       "      <td>6</td>\n",
       "      <td>1</td>\n",
       "      <td>2.001</td>\n",
       "      <td>Cameroon</td>\n",
       "      <td>CMR</td>\n",
       "      <td>Access to clean fuels and technologies for coo...</td>\n",
       "      <td>EG.CFT.ACCS.RU.ZS</td>\n",
       "    </tr>\n",
       "    <tr>\n",
       "      <th>3</th>\n",
       "      <td>2010-01-01</td>\n",
       "      <td>12.0</td>\n",
       "      <td>0.2</td>\n",
       "      <td>73.0</td>\n",
       "      <td>10.1</td>\n",
       "      <td>Dry</td>\n",
       "      <td>37258.41</td>\n",
       "      <td>2010</td>\n",
       "      <td>1</td>\n",
       "      <td>1</td>\n",
       "      <td>...</td>\n",
       "      <td>1</td>\n",
       "      <td>1</td>\n",
       "      <td>4</td>\n",
       "      <td>0</td>\n",
       "      <td>0</td>\n",
       "      <td>2.001</td>\n",
       "      <td>Cameroon</td>\n",
       "      <td>CMR</td>\n",
       "      <td>Access to clean fuels and technologies for coo...</td>\n",
       "      <td>EG.CFT.ACCS.RU.ZS</td>\n",
       "    </tr>\n",
       "    <tr>\n",
       "      <th>4</th>\n",
       "      <td>2010-01-01</td>\n",
       "      <td>12.0</td>\n",
       "      <td>0.2</td>\n",
       "      <td>73.0</td>\n",
       "      <td>10.1</td>\n",
       "      <td>Dry</td>\n",
       "      <td>37258.41</td>\n",
       "      <td>2010</td>\n",
       "      <td>1</td>\n",
       "      <td>1</td>\n",
       "      <td>...</td>\n",
       "      <td>1</td>\n",
       "      <td>1</td>\n",
       "      <td>5</td>\n",
       "      <td>1</td>\n",
       "      <td>0</td>\n",
       "      <td>2.005</td>\n",
       "      <td>Cameroon</td>\n",
       "      <td>CMR</td>\n",
       "      <td>Access to clean fuels and technologies for coo...</td>\n",
       "      <td>EG.CFT.ACCS.RU.ZS</td>\n",
       "    </tr>\n",
       "  </tbody>\n",
       "</table>\n",
       "<p>5 rows × 36 columns</p>\n",
       "</div>"
      ],
      "text/plain": [
       "       date_x  temperature_avg  rainfall_mm  humidity_avg  wind_speed_kmh  \\\n",
       "0  2010-01-01             12.0          0.2          73.0            10.1   \n",
       "1  2010-01-01             12.0          0.2          73.0            10.1   \n",
       "2  2010-01-01             12.0          0.2          73.0            10.1   \n",
       "3  2010-01-01             12.0          0.2          73.0            10.1   \n",
       "4  2010-01-01             12.0          0.2          73.0            10.1   \n",
       "\n",
       "  season  woodfuel_production_m3  year  month_x  quarter_x  ...  month_y  \\\n",
       "0    Dry                37258.41  2010        1          1  ...        1   \n",
       "1    Dry                37258.41  2010        1          1  ...        1   \n",
       "2    Dry                37258.41  2010        1          1  ...        1   \n",
       "3    Dry                37258.41  2010        1          1  ...        1   \n",
       "4    Dry                37258.41  2010        1          1  ...        1   \n",
       "\n",
       "   quarter_y  day_of_year_y  day_of_week_y  is_weekend_y  clean_fuel_access  \\\n",
       "0          1              1              4             0              2.000   \n",
       "1          1              2              5             1              2.000   \n",
       "2          1              3              6             1              2.001   \n",
       "3          1              4              0             0              2.001   \n",
       "4          1              5              1             0              2.005   \n",
       "\n",
       "    country  country_code                                        series_name  \\\n",
       "0  Cameroon           CMR  Access to clean fuels and technologies for coo...   \n",
       "1  Cameroon           CMR  Access to clean fuels and technologies for coo...   \n",
       "2  Cameroon           CMR  Access to clean fuels and technologies for coo...   \n",
       "3  Cameroon           CMR  Access to clean fuels and technologies for coo...   \n",
       "4  Cameroon           CMR  Access to clean fuels and technologies for coo...   \n",
       "\n",
       "         series_code  \n",
       "0  EG.CFT.ACCS.RU.ZS  \n",
       "1  EG.CFT.ACCS.RU.ZS  \n",
       "2  EG.CFT.ACCS.RU.ZS  \n",
       "3  EG.CFT.ACCS.RU.ZS  \n",
       "4  EG.CFT.ACCS.RU.ZS  \n",
       "\n",
       "[5 rows x 36 columns]"
      ]
     },
     "metadata": {},
     "output_type": "display_data"
    }
   ],
   "source": [
    "# --- STEP 6: Aggregate firewood dataset to unique region-year ---\n",
    "fw_agg = fw.groupby(['region','year'], as_index=False).mean(numeric_only=True)\n",
    "print(f\"✅ Aggregated firewood dataset shape: {fw_agg.shape}\")\n",
    "print(f\"Unique region-year pairs: {fw_agg[['region','year']].drop_duplicates().shape[0]}\")\n"
   ]
  },
  {
   "cell_type": "code",
   "execution_count": 24,
   "id": "05f00c4d-f825-444a-a634-d6f42b3b0e68",
   "metadata": {},
   "outputs": [
    {
     "name": "stdout",
     "output_type": "stream",
     "text": [
      "\n",
      "💾 Saved hybrid merged dataset as ../data/raw/merged_raw_hybrid.csv\n"
     ]
    }
   ],
   "source": [
    "# --- STEP 7: Prepare clean-fuel dataset (national data only) ---\n",
    "year_cf = find_col(cf, ['year','date'])\n",
    "cf = cf.rename(columns={year_cf:'year'})\n",
    "cf['year'] = pd.to_numeric(cf['year'], errors='coerce').astype('Int64')\n",
    "\n",
    "# Keep only year + numeric clean-fuel columns\n",
    "cf_numeric = cf.select_dtypes(include='number').copy()\n",
    "cf_numeric['year'] = cf['year']\n",
    "cf_numeric = cf_numeric.drop_duplicates(subset=['year'])\n",
    "\n",
    "print(f\"✅ Clean-fuel dataset (national, yearly) shape: {cf_numeric.shape}\")\n",
    "display(cf_numeric.head())\n"
   ]
  },
  {
   "cell_type": "code",
   "execution_count": null,
   "id": "7a74ea9a-4a92-41c3-8a3e-46a6ad067b2d",
   "metadata": {},
   "outputs": [],
   "source": [
    "# --- STEP 8: Merge clean-fuel data by YEAR only ---\n",
    "merged = pd.merge(fw_agg, cf_numeric, on='year', how='left')"
   ]
  },
  {
   "cell_type": "code",
   "execution_count": null,
   "id": "039ce03a-79fc-48bf-aee7-a122259214d2",
   "metadata": {},
   "outputs": [],
   "source": [
    "# --- STEP 9: Sanity checks ---\n",
    "dupes = merged.duplicated(subset=['region','year']).sum()\n",
    "print(f\"\\n✅ Merge complete! Final dataset shape: {merged.shape}\")\n",
    "print(f\"Duplicate region-year rows: {dupes}\")"
   ]
  },
  {
   "cell_type": "code",
   "execution_count": null,
   "id": "e92824c4-9cbe-4ac1-aaa0-9cd6508641da",
   "metadata": {},
   "outputs": [],
   "source": [
    "# --- STEP 10: Save the clean hybrid dataset ---\n",
    "merged.to_csv(OUTFILE, index=False)\n",
    "print(f\"\\n💾 Saved clean hybrid dataset: {OUTFILE}\")"
   ]
  },
  {
   "cell_type": "code",
   "execution_count": null,
   "id": "dbff6f1e-b267-4d84-98ae-c79a48c94def",
   "metadata": {},
   "outputs": [],
   "source": [
    "# --- STEP 11: Preview result ---\n",
    "display(merged.head(10))"
   ]
  }
 ],
 "metadata": {
  "kernelspec": {
   "display_name": "Python 3 (ipykernel)",
   "language": "python",
   "name": "python3"
  },
  "language_info": {
   "codemirror_mode": {
    "name": "ipython",
    "version": 3
   },
   "file_extension": ".py",
   "mimetype": "text/x-python",
   "name": "python",
   "nbconvert_exporter": "python",
   "pygments_lexer": "ipython3",
   "version": "3.12.7"
  }
 },
 "nbformat": 4,
 "nbformat_minor": 5
}
